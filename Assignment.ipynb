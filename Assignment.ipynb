{
 "cells": [
  {
   "cell_type": "markdown",
   "metadata": {},
   "source": [
    "# Fitting experinments\n",
    "\n",
    "\n",
    "**Вместо вступления...**\n",
    "\n",
    "Уметь апроксимировать данные это важно, в этом ноутбуке ты будешь учиться это делать.\n",
    "\n",
    "Прежде чем преступить к заданиям рекомендуется (читай обязательно) освоить или освежить данные по следующим разделам:\n",
    "\n",
    "* Уравнение прямой\n",
    "* Уравнение параболы (несколько видов, основной упор на каноническое представление)\n",
    "* Азы линейной алгебры (матрица, определитель, скалярное произведение, векторное произведение...)\n",
    "* Основные пакеты python: numpy, matplotlib\n",
    "\n",
    "Для успешного освоения материала так же рекомендуется выполнить следующие задания.\n",
    "\n",
    "## Line fitting\n",
    "\n",
    "1) Задане для разминки. Даны 2 точки, необходимоо восстановить уравнение прямой, которой они пренадлежат.\n",
    "\n",
    "2) По данному набору точек найти прямую с наименьшим среднеквадратическим отклонением от всех точек.\n",
    "\n",
    "Подзадачи:\n",
    "* Функция расчета параметров прямой по 2 точкам\n",
    "* Функция апроксимации прямой по массиву точек\n",
    "* Функция рисования прямой\n",
    "\n",
    "## Parabola fitting\n",
    "\n",
    "1) Задане для разминки. Даны 3 точки, необходимоо восстановить уравнение параболы, которой они пренадлежат.\n",
    "\n",
    "2) По данному набору точек найти параболу с наименьшим среднеквадратическим отклонением от всех точек.\n",
    "\n",
    "Подзадачи:\n",
    "* Функция расчета параметров параболы по 3 точкам\n",
    "* Функция апроксимации параболы по массиву точек\n",
    "* Функция рисования параболы\n",
    "\n",
    "## Data\n"
   ]
  },
  {
   "cell_type": "code",
   "execution_count": 11,
   "metadata": {},
   "outputs": [
    {
     "name": "stdout",
     "output_type": "stream",
     "text": [
      "[-1.  1.]\n"
     ]
    }
   ],
   "source": [
    "import numpy as np\n",
    "\n",
    "# Pair of points for 1 assignment\n",
    "points = np.array([\n",
    "    [[0, 0], [1, 1]],\n",
    "    [[0, 1], [-1, 1]],\n",
    "    [[0, 1], [-1, 1]],\n",
    "    \n",
    "])\n",
    "\n",
    "\n",
    "def line(x, a, b, s):\n",
    "    \"\"\"\n",
    "    :param x: vector of x values, np.arange(-10, 10, 0.1)\n",
    "    :param a: a parameter of the line\n",
    "    :param b: b parameter of the line\n",
    "    :param s: sigma parameret of the noise (with normal distribution)\n",
    "    \"\"\"\n",
    "    y = a*x + b\n",
    "    y += s * np.random.randn(len(y))\n",
    "    \n",
    "    return y\n",
    "\n",
    "def parabola(x, a, b, c, s):\n",
    "    pass\n",
    "    # Write here your own parabola\n",
    "\n",
    "print (line(np.array([-1.0, 1.0]), 1, 0, 0.0))\n"
   ]
  }
 ],
 "metadata": {
  "kernelspec": {
   "display_name": "Python 3",
   "language": "python",
   "name": "python3"
  },
  "language_info": {
   "codemirror_mode": {
    "name": "ipython",
    "version": 3
   },
   "file_extension": ".py",
   "mimetype": "text/x-python",
   "name": "python",
   "nbconvert_exporter": "python",
   "pygments_lexer": "ipython3",
   "version": "3.7.1"
  },
  "toc": {
   "base_numbering": 1,
   "nav_menu": {},
   "number_sections": true,
   "sideBar": true,
   "skip_h1_title": false,
   "title_cell": "Table of Contents",
   "title_sidebar": "Contents",
   "toc_cell": false,
   "toc_position": {},
   "toc_section_display": true,
   "toc_window_display": false
  },
  "varInspector": {
   "cols": {
    "lenName": 16,
    "lenType": 16,
    "lenVar": 40
   },
   "kernels_config": {
    "python": {
     "delete_cmd_postfix": "",
     "delete_cmd_prefix": "del ",
     "library": "var_list.py",
     "varRefreshCmd": "print(var_dic_list())"
    },
    "r": {
     "delete_cmd_postfix": ") ",
     "delete_cmd_prefix": "rm(",
     "library": "var_list.r",
     "varRefreshCmd": "cat(var_dic_list()) "
    }
   },
   "types_to_exclude": [
    "module",
    "function",
    "builtin_function_or_method",
    "instance",
    "_Feature"
   ],
   "window_display": false
  }
 },
 "nbformat": 4,
 "nbformat_minor": 2
}
