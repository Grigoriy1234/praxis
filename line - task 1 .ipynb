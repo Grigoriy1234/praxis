{
 "cells": [
  {
   "cell_type": "code",
   "execution_count": 32,
   "metadata": {},
   "outputs": [],
   "source": [
    "import numpy as np\n",
    "import pandas as pd\n",
    "import matplotlib.pyplot as plt"
   ]
  },
  {
   "cell_type": "code",
   "execution_count": 33,
   "metadata": {},
   "outputs": [],
   "source": [
    "# Pair of points for 1 assignment\n",
    "points = np.array([\n",
    "    [[0, 0], [1, 1]],\n",
    "    [[0, 1], [-1, 1]],\n",
    "    [[0, 1], [-1, 1]]])"
   ]
  },
  {
   "cell_type": "code",
   "execution_count": 40,
   "metadata": {},
   "outputs": [
    {
     "name": "stdout",
     "output_type": "stream",
     "text": [
      "[[0. 0.]\n",
      " [1. 1.]]\n"
     ]
    }
   ],
   "source": [
    "task = 0\n",
    "XYarr= np.array(points[task],float).reshape(len(points[task]),2)\n",
    "n = len(XYarr)\n",
    "print(XYarr)"
   ]
  },
  {
   "cell_type": "code",
   "execution_count": 41,
   "metadata": {},
   "outputs": [],
   "source": [
    "XYp = {'x':[i[0] for i in XYarr],'y':[i[1] for i in XYarr]}\n",
    "sumX = sum(XYp['x'])\n",
    "sumY = sum(XYp['y'])\n",
    "sumXY = 0.\n",
    "sumXqrt = 0."
   ]
  },
  {
   "cell_type": "code",
   "execution_count": 42,
   "metadata": {},
   "outputs": [],
   "source": [
    "for i in XYarr:\n",
    "    sumXY += i[0]*i[1]    \n",
    "    sumXqrt += i[0]**2"
   ]
  },
  {
   "cell_type": "code",
   "execution_count": 43,
   "metadata": {},
   "outputs": [],
   "source": [
    "a = (n*sumXY - sumX*sumY)/(n*sumXqrt - sumX**2)\n",
    "b = (sumY - a*sumX)/n\n",
    "XYl1 = {'x':[min(XYp['x'])-3,max(XYp['x'])+3],'y':[]}\n",
    "XYl1['y'] = [a*i+b for i in XYl1['x']]"
   ]
  },
  {
   "cell_type": "code",
   "execution_count": 44,
   "metadata": {},
   "outputs": [
    {
     "name": "stdout",
     "output_type": "stream",
     "text": [
      "a =  1.0 \tb =  0.0\n",
      "Xpoint =  [0.0, 1.0] \n",
      "Ypoint =  [0.0, 1.0]\n",
      "\n",
      "Xline 1 =  [-3.0, 4.0] \n",
      "Yline 1 =  [-3.0, 4.0]\n"
     ]
    }
   ],
   "source": [
    "print('a = ',a,'\\tb = ',b)\n",
    "print('Xpoint = ',XYp['x'],'\\nYpoint = ',XYp['y'])\n",
    "print('\\nXline 1 = ',XYl1['x'],'\\nYline 1 = ',XYl1['y'])"
   ]
  },
  {
   "cell_type": "code",
   "execution_count": 45,
   "metadata": {},
   "outputs": [
    {
     "data": {
      "text/plain": [
       "Text(2.95, 4.0, 'line 1')"
      ]
     },
     "execution_count": 45,
     "metadata": {},
     "output_type": "execute_result"
    },
    {
     "data": {
      "image/png": "[encoded data removed]",
      "text/plain": [
       "<Figure size 432x288 with 1 Axes>"
      ]
     },
     "metadata": {
      "needs_background": "light"
     },
     "output_type": "display_data"
    }
   ],
   "source": [
    "plt.plot(XYp['x'],XYp['y'],'ro')\n",
    "plt.plot(XYl1['x'],XYl1['y'],color='blue')\n",
    "plt.text((XYl1['x'][1]-(XYl1['x'][1]-XYl1['x'][0])*0.15),XYl1['y'][1],'line 1',color='blue')"
   ]
  },
  {
   "cell_type": "code",
   "execution_count": null,
   "metadata": {},
   "outputs": [],
   "source": []
  },
  {
   "cell_type": "code",
   "execution_count": null,
   "metadata": {},
   "outputs": [],
   "source": []
  },
  {
   "cell_type": "code",
   "execution_count": null,
   "metadata": {},
   "outputs": [],
   "source": []
  },
  {
   "cell_type": "code",
   "execution_count": null,
   "metadata": {},
   "outputs": [],
   "source": []
  }
 ],
 "metadata": {
  "kernelspec": {
   "display_name": "Python 3",
   "language": "python",
   "name": "python3"
  },
  "language_info": {
   "codemirror_mode": {
    "name": "ipython",
    "version": 3
   },
   "file_extension": ".py",
   "mimetype": "text/x-python",
   "name": "python",
   "nbconvert_exporter": "python",
   "pygments_lexer": "ipython3",
   "version": "3.7.3"
  }
 },
 "nbformat": 4,
 "nbformat_minor": 2
}
