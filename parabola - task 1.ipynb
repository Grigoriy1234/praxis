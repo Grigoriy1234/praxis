{
 "cells": [
  {
   "cell_type": "code",
   "execution_count": 1,
   "metadata": {},
   "outputs": [],
   "source": [
    "import numpy as np\n",
    "import pandas as pd\n",
    "import matplotlib.pyplot as plt"
   ]
  },
  {
   "cell_type": "code",
   "execution_count": 2,
   "metadata": {},
   "outputs": [],
   "source": [
    "def parabola(x, a, b, c, s):\n",
    "    y = a*(x**2) + b*x + c\n",
    "    y += s * np.random.randn(len(y))\n",
    "    return y"
   ]
  },
  {
   "cell_type": "code",
   "execution_count": 3,
   "metadata": {},
   "outputs": [],
   "source": [
    "def tr_matr(arr):\n",
    "    tr = [[]]\n",
    "    for i in range(len(arr[0])):\n",
    "        for j in range(len(arr)):\n",
    "            tr[i].append(arr[j][i])\n",
    "        if i != len(arr[0])-1:\n",
    "            tr.append([])\n",
    "    return tr   "
   ]
  },
  {
   "cell_type": "code",
   "execution_count": 4,
   "metadata": {},
   "outputs": [],
   "source": [
    "def opred_matr(arr):\n",
    "    opr=0.\n",
    "    if len(arr) == 2:\n",
    "        opr=arr[0][0]*arr[1][1]-arr[0][1]*arr[1][0]\n",
    "    else:\n",
    "        for i in range(len(arr)):\n",
    "            tmpi=i\n",
    "            tmpOpr=1.\n",
    "            for j in range(len(arr)):\n",
    "                tmpOpr*=arr[tmpi][j]\n",
    "                tmpi+=1\n",
    "                if tmpi == len(arr):\n",
    "                    tmpi=0\n",
    "            opr+=tmpOpr\n",
    "        for i in range(len(arr)):\n",
    "            tmpi=i\n",
    "            tmpOpr=1.\n",
    "            for j in range(len(arr))[::-1]:\n",
    "                tmpOpr*=arr[tmpi][j]\n",
    "                tmpi+=1\n",
    "                if tmpi == len(arr):\n",
    "                    tmpi=0\n",
    "            opr-=tmpOpr\n",
    "    return opr "
   ]
  },
  {
   "cell_type": "code",
   "execution_count": 6,
   "metadata": {},
   "outputs": [],
   "source": [
    "def obr_matr(arr):\n",
    "    opr=opred_matr(arr)\n",
    "    obr=[[]]\n",
    "    tmp_arr = arr.copy()\n",
    "    tmp_arr = tr_matr(tmp_arr)\n",
    "    for i in range(len(tmp_arr)):\n",
    "        for j in range(len(tmp_arr)):\n",
    "            dop_arr = []\n",
    "            for i2 in range(len(tmp_arr)):\n",
    "                for j2 in range(len(tmp_arr)):\n",
    "                    if i2!=i and j2!=j:\n",
    "                        dop_arr.append(tmp_arr[i2][j2])\n",
    "            dop_arr2=[[dop_arr[0],dop_arr[1]],[dop_arr[2],dop_arr[3]]]\n",
    "            obr.append(round(((-1)**(i+j+2))*(opred_matr(dop_arr2)),10))\n",
    "    obr=obr[1:]\n",
    "    for i in range(len(obr)):\n",
    "        obr[i]=obr[i]/opr        \n",
    "    obr=np.array(obr).reshape(3,3)         \n",
    "    return obr"
   ]
  },
  {
   "cell_type": "code",
   "execution_count": 66,
   "metadata": {},
   "outputs": [],
   "source": [
    "a=21.\n",
    "b=-1000.\n",
    "c=-12.\n",
    "s=5000.1\n",
    "XYp={'x':np.array(np.arange(1,150,4.2))}\n",
    "XYp['y']=parabola(XYp['x'], a, b, c, s)"
   ]
  },
  {
   "cell_type": "code",
   "execution_count": 67,
   "metadata": {},
   "outputs": [
    {
     "name": "stdout",
     "output_type": "stream",
     "text": [
      "point  0 [X= 1.0 ,Y= -1475.513271562081 ]\n",
      "point  1 [X= 5.2 ,Y= -2716.8964928536225 ]\n",
      "point  2 [X= 9.4 ,Y= -6275.318976920978 ]\n",
      "point  3 [X= 13.600000000000001 ,Y= -6535.312079692713 ]\n",
      "point  4 [X= 17.8 ,Y= -12049.184081220354 ]\n",
      "point  5 [X= 22.0 ,Y= -8428.974982610462 ]\n",
      "point  6 [X= 26.200000000000003 ,Y= -5611.681808729499 ]\n",
      "point  7 [X= 30.400000000000002 ,Y= -10773.396831472617 ]\n",
      "point  8 [X= 34.6 ,Y= -17661.549118482806 ]\n",
      "point  9 [X= 38.800000000000004 ,Y= -12687.429253171467 ]\n",
      "point  10 [X= 43.0 ,Y= -1931.1811584114134 ]\n",
      "point  11 [X= 47.2 ,Y= -6402.75611675344 ]\n",
      "point  12 [X= 51.400000000000006 ,Y= 7524.771713796593 ]\n",
      "point  13 [X= 55.6 ,Y= 6743.169934517113 ]\n",
      "point  14 [X= 59.800000000000004 ,Y= 8592.88174197571 ]\n",
      "point  15 [X= 64.0 ,Y= 15857.653137601668 ]\n",
      "point  16 [X= 68.2 ,Y= 31033.47098979609 ]\n",
      "point  17 [X= 72.4 ,Y= 32682.74626874144 ]\n",
      "point  18 [X= 76.60000000000001 ,Y= 49728.104739220944 ]\n",
      "point  19 [X= 80.8 ,Y= 56810.08055784712 ]\n",
      "point  20 [X= 85.0 ,Y= 65736.33370470809 ]\n",
      "point  21 [X= 89.2 ,Y= 75254.85273092813 ]\n",
      "point  22 [X= 93.4 ,Y= 85117.08381562567 ]\n",
      "point  23 [X= 97.60000000000001 ,Y= 104483.41020738397 ]\n",
      "point  24 [X= 101.80000000000001 ,Y= 113499.22228113381 ]\n",
      "point  25 [X= 106.0 ,Y= 138860.32284893803 ]\n",
      "point  26 [X= 110.2 ,Y= 150750.718793211 ]\n",
      "point  27 [X= 114.4 ,Y= 155877.68182441487 ]\n",
      "point  28 [X= 118.60000000000001 ,Y= 173099.62242273497 ]\n",
      "point  29 [X= 122.80000000000001 ,Y= 207117.6404307256 ]\n",
      "point  30 [X= 127.0 ,Y= 216640.0976170201 ]\n",
      "point  31 [X= 131.20000000000002 ,Y= 227038.35102838045 ]\n",
      "point  32 [X= 135.4 ,Y= 253572.3949786251 ]\n",
      "point  33 [X= 139.6 ,Y= 275685.08424867253 ]\n",
      "point  34 [X= 143.8 ,Y= 281048.52588162565 ]\n",
      "point  35 [X= 148.0 ,Y= 311098.58294527855 ]\n"
     ]
    }
   ],
   "source": [
    "for i in range(len(XYp['y'])):\n",
    "    print('point ',i,'[X=',XYp['x'][i],',Y=',XYp['y'][i],']')"
   ]
  },
  {
   "cell_type": "code",
   "execution_count": 68,
   "metadata": {},
   "outputs": [
    {
     "data": {
      "text/plain": [
       "[<matplotlib.lines.Line2D at 0x7f04d8f46cc0>]"
      ]
     },
     "execution_count": 68,
     "metadata": {},
     "output_type": "execute_result"
    },
    {
     "data": {
      "image/png": "[encoded data removed]",
      "text/plain": [
       "<Figure size 432x288 with 1 Axes>"
      ]
     },
     "metadata": {
      "needs_background": "light"
     },
     "output_type": "display_data"
    }
   ],
   "source": [
    "plt.plot(XYp['x'],XYp['y'],'ro')"
   ]
  },
  {
   "cell_type": "code",
   "execution_count": null,
   "metadata": {},
   "outputs": [],
   "source": []
  }
 ],
 "metadata": {
  "kernelspec": {
   "display_name": "Python 3",
   "language": "python",
   "name": "python3"
  },
  "language_info": {
   "codemirror_mode": {
    "name": "ipython",
    "version": 3
   },
   "file_extension": ".py",
   "mimetype": "text/x-python",
   "name": "python",
   "nbconvert_exporter": "python",
   "pygments_lexer": "ipython3",
   "version": "3.7.3"
  }
 },
 "nbformat": 4,
 "nbformat_minor": 2
}
